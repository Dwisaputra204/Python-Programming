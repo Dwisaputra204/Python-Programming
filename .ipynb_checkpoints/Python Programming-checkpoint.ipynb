{
 "cells": [
  {
   "cell_type": "markdown",
   "id": "e9b6ccb4",
   "metadata": {},
   "source": [
    "# Python Object & Data Structures"
   ]
  },
  {
   "cell_type": "markdown",
   "id": "05020f8c",
   "metadata": {},
   "source": [
    "## Variables"
   ]
  },
  {
   "cell_type": "code",
   "execution_count": 14,
   "id": "363ebd01",
   "metadata": {},
   "outputs": [],
   "source": [
    "nama = 'Dwi Saputra'\n",
    "umur = 24"
   ]
  },
  {
   "cell_type": "code",
   "execution_count": 15,
   "id": "0225593d",
   "metadata": {},
   "outputs": [
    {
     "name": "stdout",
     "output_type": "stream",
     "text": [
      "Dwi Saputra\n"
     ]
    }
   ],
   "source": [
    "print(nama)"
   ]
  },
  {
   "cell_type": "code",
   "execution_count": 16,
   "id": "20c4a8a4",
   "metadata": {},
   "outputs": [
    {
     "name": "stdout",
     "output_type": "stream",
     "text": [
      "24\n"
     ]
    }
   ],
   "source": [
    "print(umur)"
   ]
  },
  {
   "cell_type": "markdown",
   "id": "eccb89fb",
   "metadata": {},
   "source": [
    "## Strings"
   ]
  },
  {
   "cell_type": "markdown",
   "id": "2a9a99d3",
   "metadata": {},
   "source": [
    "### simple string"
   ]
  },
  {
   "cell_type": "code",
   "execution_count": 17,
   "id": "38fb49f2",
   "metadata": {},
   "outputs": [
    {
     "name": "stdout",
     "output_type": "stream",
     "text": [
      "This is a string\n"
     ]
    }
   ],
   "source": [
    "var = \"This is a string\"\n",
    "print(var)"
   ]
  },
  {
   "cell_type": "markdown",
   "id": "a3a07181",
   "metadata": {},
   "source": [
    "### multiline string"
   ]
  },
  {
   "cell_type": "code",
   "execution_count": 18,
   "id": "a8ef9b73",
   "metadata": {},
   "outputs": [
    {
     "name": "stdout",
     "output_type": "stream",
     "text": [
      "This is a string\n",
      "with multiline string\n",
      "\n"
     ]
    }
   ],
   "source": [
    "var = \"\"\"This is a string\n",
    "with multiline string\n",
    "\"\"\"\n",
    "print(var)"
   ]
  },
  {
   "cell_type": "markdown",
   "id": "c087ac2e",
   "metadata": {},
   "source": [
    "### String indexing & slicing"
   ]
  },
  {
   "cell_type": "markdown",
   "id": "9d110d4c",
   "metadata": {},
   "source": [
    "indexing"
   ]
  },
  {
   "cell_type": "code",
   "execution_count": 21,
   "id": "e8069e3c",
   "metadata": {},
   "outputs": [],
   "source": [
    "var = \"Dwi Saputra\""
   ]
  },
  {
   "cell_type": "code",
   "execution_count": 23,
   "id": "b0f992df",
   "metadata": {},
   "outputs": [
    {
     "name": "stdout",
     "output_type": "stream",
     "text": [
      "i\n"
     ]
    }
   ],
   "source": [
    "print(var[2])"
   ]
  },
  {
   "cell_type": "markdown",
   "id": "8089ed76",
   "metadata": {},
   "source": [
    "slicing"
   ]
  },
  {
   "cell_type": "code",
   "execution_count": 24,
   "id": "9c495ac4",
   "metadata": {},
   "outputs": [
    {
     "name": "stdout",
     "output_type": "stream",
     "text": [
      "Sap\n"
     ]
    }
   ],
   "source": [
    "print(var[4:7])"
   ]
  },
  {
   "cell_type": "code",
   "execution_count": 26,
   "id": "69634b2b",
   "metadata": {},
   "outputs": [
    {
     "name": "stdout",
     "output_type": "stream",
     "text": [
      "Saputra\n"
     ]
    }
   ],
   "source": [
    "print(var[4:])"
   ]
  },
  {
   "cell_type": "markdown",
   "id": "d1b70d73",
   "metadata": {},
   "source": [
    "### Slicing String Using Start : Stop : Step"
   ]
  },
  {
   "cell_type": "code",
   "execution_count": 29,
   "id": "510dc0e0",
   "metadata": {},
   "outputs": [],
   "source": [
    "var = 'dwi saputra'"
   ]
  },
  {
   "cell_type": "code",
   "execution_count": 31,
   "id": "90026d2e",
   "metadata": {},
   "outputs": [
    {
     "name": "stdout",
     "output_type": "stream",
     "text": [
      "w aur\n"
     ]
    }
   ],
   "source": [
    "print(var[1:10:2])"
   ]
  },
  {
   "cell_type": "markdown",
   "id": "6d96a302",
   "metadata": {},
   "source": [
    "### String Concatenation"
   ]
  },
  {
   "cell_type": "code",
   "execution_count": 32,
   "id": "fc3005aa",
   "metadata": {},
   "outputs": [],
   "source": [
    "first_name = 'Dwi'\n",
    "last_name = 'Saputra'"
   ]
  },
  {
   "cell_type": "code",
   "execution_count": 33,
   "id": "922a621e",
   "metadata": {},
   "outputs": [
    {
     "name": "stdout",
     "output_type": "stream",
     "text": [
      "DwiSaputra\n"
     ]
    }
   ],
   "source": [
    "print(first_name+last_name)"
   ]
  },
  {
   "cell_type": "markdown",
   "id": "0e620e34",
   "metadata": {},
   "source": [
    "### Method"
   ]
  },
  {
   "cell_type": "code",
   "execution_count": 40,
   "id": "7aa17d2d",
   "metadata": {},
   "outputs": [],
   "source": [
    "name = ' Dwi Saputra '"
   ]
  },
  {
   "cell_type": "code",
   "execution_count": 41,
   "id": "d0e125e7",
   "metadata": {},
   "outputs": [
    {
     "name": "stdout",
     "output_type": "stream",
     "text": [
      " Dwi Saputra \n"
     ]
    }
   ],
   "source": [
    "print(name.title())"
   ]
  },
  {
   "cell_type": "code",
   "execution_count": 42,
   "id": "3120ed83",
   "metadata": {},
   "outputs": [
    {
     "name": "stdout",
     "output_type": "stream",
     "text": [
      " DWI SAPUTRA \n"
     ]
    }
   ],
   "source": [
    "print(name.upper())"
   ]
  },
  {
   "cell_type": "code",
   "execution_count": 43,
   "id": "3dd41ff5",
   "metadata": {},
   "outputs": [
    {
     "name": "stdout",
     "output_type": "stream",
     "text": [
      " dwi saputra \n"
     ]
    }
   ],
   "source": [
    "print(name.lower())"
   ]
  },
  {
   "cell_type": "code",
   "execution_count": 44,
   "id": "d1d1ae6e",
   "metadata": {},
   "outputs": [
    {
     "name": "stdout",
     "output_type": "stream",
     "text": [
      "Dwi Saputra\n"
     ]
    }
   ],
   "source": [
    "print(name.strip())"
   ]
  },
  {
   "cell_type": "code",
   "execution_count": 45,
   "id": "9f083604",
   "metadata": {},
   "outputs": [
    {
     "name": "stdout",
     "output_type": "stream",
     "text": [
      "['Dwi', 'Saputra']\n"
     ]
    }
   ],
   "source": [
    "print(name.split())"
   ]
  },
  {
   "cell_type": "markdown",
   "id": "fe999c77",
   "metadata": {},
   "source": [
    "## Numbers : Integers & Float"
   ]
  },
  {
   "cell_type": "code",
   "execution_count": 48,
   "id": "f4d60e97",
   "metadata": {},
   "outputs": [],
   "source": [
    "x = 4 #integer\n",
    "y = 4.7 #float"
   ]
  },
  {
   "cell_type": "markdown",
   "id": "9e541e3e",
   "metadata": {},
   "source": [
    "## List"
   ]
  },
  {
   "cell_type": "code",
   "execution_count": 49,
   "id": "646e2b97",
   "metadata": {},
   "outputs": [],
   "source": [
    "fruits = ['apple','orange','banana','grape']"
   ]
  },
  {
   "cell_type": "code",
   "execution_count": 50,
   "id": "2a16ce57",
   "metadata": {},
   "outputs": [
    {
     "name": "stdout",
     "output_type": "stream",
     "text": [
      "['apple', 'orange', 'banana', 'grape']\n"
     ]
    }
   ],
   "source": [
    "print(fruits)"
   ]
  },
  {
   "cell_type": "code",
   "execution_count": 51,
   "id": "e6c987d3",
   "metadata": {},
   "outputs": [
    {
     "name": "stdout",
     "output_type": "stream",
     "text": [
      "apple\n"
     ]
    }
   ],
   "source": [
    "print(fruits[0])"
   ]
  },
  {
   "cell_type": "code",
   "execution_count": 52,
   "id": "21222c74",
   "metadata": {},
   "outputs": [
    {
     "name": "stdout",
     "output_type": "stream",
     "text": [
      "banana\n"
     ]
    }
   ],
   "source": [
    "print(fruits[2])"
   ]
  },
  {
   "cell_type": "code",
   "execution_count": 53,
   "id": "094d2447",
   "metadata": {},
   "outputs": [
    {
     "name": "stdout",
     "output_type": "stream",
     "text": [
      "grape\n"
     ]
    }
   ],
   "source": [
    "print(fruits[-1])"
   ]
  },
  {
   "cell_type": "code",
   "execution_count": 54,
   "id": "eaaa7529",
   "metadata": {},
   "outputs": [
    {
     "name": "stdout",
     "output_type": "stream",
     "text": [
      "['banana', 'grape']\n"
     ]
    }
   ],
   "source": [
    "print(fruits[2:5])"
   ]
  },
  {
   "cell_type": "code",
   "execution_count": 55,
   "id": "2df15d4d",
   "metadata": {},
   "outputs": [
    {
     "name": "stdout",
     "output_type": "stream",
     "text": [
      "['apple', 'orange', 'banana', 'grape']\n",
      "['Rambutan', 'orange', 'banana', 'grape']\n"
     ]
    }
   ],
   "source": [
    "print(fruits)\n",
    "fruits[0] = 'Rambutan'\n",
    "print(fruits)"
   ]
  },
  {
   "cell_type": "code",
   "execution_count": 56,
   "id": "bec8b4e5",
   "metadata": {},
   "outputs": [
    {
     "name": "stdout",
     "output_type": "stream",
     "text": [
      "['Rambutan', 'orange', 'banana', 'grape']\n",
      "['Rambutan', 'orange', 'banana', 'grape', 'melon']\n"
     ]
    }
   ],
   "source": [
    "print(fruits)\n",
    "fruits.append('melon')\n",
    "print(fruits)"
   ]
  },
  {
   "cell_type": "code",
   "execution_count": 57,
   "id": "f7878c90",
   "metadata": {},
   "outputs": [
    {
     "name": "stdout",
     "output_type": "stream",
     "text": [
      "['Rambutan', 'orange', 'banana', 'grape', 'melon']\n",
      "['Rambutan', 'orange', 'mango', 'banana', 'grape', 'melon']\n"
     ]
    }
   ],
   "source": [
    "print(fruits)\n",
    "fruits.insert(2,'mango')\n",
    "print(fruits)"
   ]
  },
  {
   "cell_type": "code",
   "execution_count": 58,
   "id": "a586db1b",
   "metadata": {},
   "outputs": [
    {
     "name": "stdout",
     "output_type": "stream",
     "text": [
      "['Rambutan', 'orange', 'mango', 'banana', 'grape', 'melon']\n",
      "['orange', 'mango', 'banana', 'grape', 'melon']\n"
     ]
    }
   ],
   "source": [
    "print(fruits)\n",
    "del fruits[0]\n",
    "print(fruits)"
   ]
  },
  {
   "cell_type": "code",
   "execution_count": 59,
   "id": "1e20255c",
   "metadata": {},
   "outputs": [
    {
     "name": "stdout",
     "output_type": "stream",
     "text": [
      "['orange', 'mango', 'banana', 'grape', 'melon']\n",
      "['orange', 'mango', 'banana', 'grape']\n"
     ]
    }
   ],
   "source": [
    "print(fruits)\n",
    "fruits.pop()\n",
    "print(fruits)"
   ]
  },
  {
   "cell_type": "code",
   "execution_count": 60,
   "id": "fe981e18",
   "metadata": {},
   "outputs": [
    {
     "name": "stdout",
     "output_type": "stream",
     "text": [
      "['orange', 'mango', 'banana', 'grape']\n",
      "['orange', 'banana', 'grape']\n"
     ]
    }
   ],
   "source": [
    "print(fruits)\n",
    "fruits.remove('mango')\n",
    "print(fruits)"
   ]
  },
  {
   "cell_type": "code",
   "execution_count": 61,
   "id": "6de75697",
   "metadata": {},
   "outputs": [
    {
     "name": "stdout",
     "output_type": "stream",
     "text": [
      "['orange', 'banana', 'grape']\n",
      "['banana', 'grape', 'orange']\n"
     ]
    }
   ],
   "source": [
    "print(fruits)\n",
    "fruits.sort()\n",
    "print(fruits)"
   ]
  },
  {
   "cell_type": "code",
   "execution_count": 62,
   "id": "e0b6635f",
   "metadata": {},
   "outputs": [
    {
     "name": "stdout",
     "output_type": "stream",
     "text": [
      "['banana', 'grape', 'orange']\n"
     ]
    }
   ],
   "source": [
    "print(fruits)"
   ]
  },
  {
   "cell_type": "code",
   "execution_count": 63,
   "id": "ac406e90",
   "metadata": {},
   "outputs": [
    {
     "data": {
      "text/plain": [
       "3"
      ]
     },
     "execution_count": 63,
     "metadata": {},
     "output_type": "execute_result"
    }
   ],
   "source": [
    "len(fruits)"
   ]
  },
  {
   "cell_type": "markdown",
   "id": "736ad392",
   "metadata": {},
   "source": [
    "# Python Operators"
   ]
  },
  {
   "cell_type": "markdown",
   "id": "8a275ac5",
   "metadata": {},
   "source": [
    "## arithmetic operators"
   ]
  },
  {
   "cell_type": "code",
   "execution_count": 92,
   "id": "3affeb8d",
   "metadata": {},
   "outputs": [],
   "source": [
    "a = 10\n",
    "b = 5"
   ]
  },
  {
   "cell_type": "code",
   "execution_count": 93,
   "id": "dd3a5064",
   "metadata": {},
   "outputs": [
    {
     "name": "stdout",
     "output_type": "stream",
     "text": [
      "15\n",
      "5\n",
      "2.0\n",
      "50\n"
     ]
    }
   ],
   "source": [
    "print(a+b)\n",
    "print(a-b)\n",
    "print(a / b)\n",
    "print(a * b)"
   ]
  },
  {
   "cell_type": "markdown",
   "id": "f2aefa57",
   "metadata": {},
   "source": [
    "## comparison"
   ]
  },
  {
   "cell_type": "code",
   "execution_count": 94,
   "id": "50363423",
   "metadata": {},
   "outputs": [
    {
     "name": "stdout",
     "output_type": "stream",
     "text": [
      "False\n",
      "True\n",
      "True\n",
      "False\n"
     ]
    }
   ],
   "source": [
    "print(a == b)\n",
    "print(a != b)\n",
    "print(a > b)\n",
    "print(a < b)"
   ]
  },
  {
   "cell_type": "markdown",
   "id": "f7fe5051",
   "metadata": {},
   "source": [
    "## assignments"
   ]
  },
  {
   "cell_type": "code",
   "execution_count": 95,
   "id": "a6768427",
   "metadata": {},
   "outputs": [],
   "source": [
    "a = 10\n",
    "b = 20"
   ]
  },
  {
   "cell_type": "code",
   "execution_count": 96,
   "id": "ddc35c90",
   "metadata": {},
   "outputs": [
    {
     "name": "stdout",
     "output_type": "stream",
     "text": [
      "10\n",
      "12\n"
     ]
    }
   ],
   "source": [
    "print(a)\n",
    "a += 2\n",
    "print(a)"
   ]
  },
  {
   "cell_type": "code",
   "execution_count": 97,
   "id": "774411c4",
   "metadata": {},
   "outputs": [
    {
     "name": "stdout",
     "output_type": "stream",
     "text": [
      "20\n",
      "18\n"
     ]
    }
   ],
   "source": [
    "print(b)\n",
    "b -= 2\n",
    "print(b)"
   ]
  },
  {
   "cell_type": "code",
   "execution_count": 98,
   "id": "b976073b",
   "metadata": {},
   "outputs": [
    {
     "name": "stdout",
     "output_type": "stream",
     "text": [
      "12\n",
      "24\n"
     ]
    }
   ],
   "source": [
    "print(a)\n",
    "a *= 2\n",
    "print(a)"
   ]
  },
  {
   "cell_type": "code",
   "execution_count": 99,
   "id": "85389086",
   "metadata": {},
   "outputs": [
    {
     "name": "stdout",
     "output_type": "stream",
     "text": [
      "18\n",
      "9.0\n"
     ]
    }
   ],
   "source": [
    "print(b)\n",
    "b /= 2\n",
    "print(b)"
   ]
  },
  {
   "cell_type": "markdown",
   "id": "2befe9ba",
   "metadata": {},
   "source": [
    "## membership"
   ]
  },
  {
   "cell_type": "code",
   "execution_count": 100,
   "id": "5bbd35ba",
   "metadata": {},
   "outputs": [
    {
     "data": {
      "text/plain": [
       "['banana', 'grape', 'orange']"
      ]
     },
     "execution_count": 100,
     "metadata": {},
     "output_type": "execute_result"
    }
   ],
   "source": [
    "fruits"
   ]
  },
  {
   "cell_type": "code",
   "execution_count": 101,
   "id": "5adad2f4",
   "metadata": {},
   "outputs": [
    {
     "data": {
      "text/plain": [
       "True"
      ]
     },
     "execution_count": 101,
     "metadata": {},
     "output_type": "execute_result"
    }
   ],
   "source": [
    "x = 'banana'\n",
    "x in fruits"
   ]
  },
  {
   "cell_type": "code",
   "execution_count": 102,
   "id": "60b03aff",
   "metadata": {},
   "outputs": [],
   "source": [
    "a = 10\n",
    "b = a"
   ]
  },
  {
   "cell_type": "code",
   "execution_count": 103,
   "id": "534a5b8c",
   "metadata": {},
   "outputs": [
    {
     "data": {
      "text/plain": [
       "True"
      ]
     },
     "execution_count": 103,
     "metadata": {},
     "output_type": "execute_result"
    }
   ],
   "source": [
    "a is b"
   ]
  },
  {
   "cell_type": "code",
   "execution_count": 104,
   "id": "70ed985d",
   "metadata": {},
   "outputs": [
    {
     "data": {
      "text/plain": [
       "False"
      ]
     },
     "execution_count": 104,
     "metadata": {},
     "output_type": "execute_result"
    }
   ],
   "source": [
    "a is not b"
   ]
  },
  {
   "cell_type": "markdown",
   "id": "fff44e4e",
   "metadata": {},
   "source": [
    "# Conditional Statement"
   ]
  },
  {
   "cell_type": "code",
   "execution_count": 105,
   "id": "0431715a",
   "metadata": {},
   "outputs": [],
   "source": [
    "a = 10"
   ]
  },
  {
   "cell_type": "code",
   "execution_count": 106,
   "id": "1a3ccc1b",
   "metadata": {},
   "outputs": [
    {
     "name": "stdout",
     "output_type": "stream",
     "text": [
      "Ya, a lebih besar dari 5\n"
     ]
    }
   ],
   "source": [
    "if a > 5:\n",
    "    print('Ya, a lebih besar dari 5')"
   ]
  },
  {
   "cell_type": "code",
   "execution_count": 108,
   "id": "ed1efd06",
   "metadata": {},
   "outputs": [
    {
     "data": {
      "text/plain": [
       "['banana', 'grape', 'orange']"
      ]
     },
     "execution_count": 108,
     "metadata": {},
     "output_type": "execute_result"
    }
   ],
   "source": [
    "fruits"
   ]
  },
  {
   "cell_type": "code",
   "execution_count": 109,
   "id": "130d1254",
   "metadata": {},
   "outputs": [
    {
     "name": "stdout",
     "output_type": "stream",
     "text": [
      "Ya kamu punya banana\n"
     ]
    }
   ],
   "source": [
    "if 'banana' in fruits:\n",
    "    print('Ya kamu punya banana')\n",
    "else:\n",
    "    print('Kamu tidak punya')"
   ]
  },
  {
   "cell_type": "code",
   "execution_count": 110,
   "id": "e583e8e8",
   "metadata": {},
   "outputs": [
    {
     "name": "stdout",
     "output_type": "stream",
     "text": [
      "Kamu tidak punya\n"
     ]
    }
   ],
   "source": [
    "if 'durian' in fruits:\n",
    "    print('Ya kamu punya durian')\n",
    "else:\n",
    "    print('Kamu tidak punya')"
   ]
  },
  {
   "cell_type": "code",
   "execution_count": 113,
   "id": "3031dfea",
   "metadata": {},
   "outputs": [
    {
     "name": "stdout",
     "output_type": "stream",
     "text": [
      "Ya kamu punya banana\n"
     ]
    }
   ],
   "source": [
    "if 'peer' in fruits:\n",
    "    print('Ya kamu punya peer')\n",
    "elif 'banana' in fruits:\n",
    "    print('Ya kamu punya banana')\n",
    "else:\n",
    "    print('kamu gak punya buah apapun')"
   ]
  },
  {
   "cell_type": "code",
   "execution_count": 114,
   "id": "e3d9db5e",
   "metadata": {},
   "outputs": [
    {
     "name": "stdout",
     "output_type": "stream",
     "text": [
      "kamu lulus\n"
     ]
    }
   ],
   "source": [
    "tingkat = 'SD'\n",
    "nilai = 70\n",
    "\n",
    "if tingkat == 'SD':\n",
    "    if nilai > 65:\n",
    "        print('kamu lulus')\n",
    "    else:\n",
    "        print('kamu tidak lulus')\n",
    "else:\n",
    "    print('pastikan tingkat sudah sesuai')"
   ]
  },
  {
   "cell_type": "code",
   "execution_count": 116,
   "id": "96df1c6e",
   "metadata": {},
   "outputs": [
    {
     "name": "stdout",
     "output_type": "stream",
     "text": [
      "kamu lulus\n"
     ]
    }
   ],
   "source": [
    "if tingkat == 'SD' and nilai > 65:\n",
    "    print('kamu lulus')\n",
    "else:\n",
    "    print('kamu tidak lulus')"
   ]
  },
  {
   "cell_type": "markdown",
   "id": "be6abbff",
   "metadata": {},
   "source": [
    "# Loops"
   ]
  },
  {
   "cell_type": "code",
   "execution_count": 117,
   "id": "ab3050fc",
   "metadata": {},
   "outputs": [
    {
     "name": "stdout",
     "output_type": "stream",
     "text": [
      "The count is 5\n",
      "The count is 4\n",
      "The count is 3\n",
      "The count is 2\n",
      "The count is 1\n"
     ]
    }
   ],
   "source": [
    "count = 5\n",
    "\n",
    "while(count > 0):\n",
    "    print('The count is', count)\n",
    "    count -=1"
   ]
  },
  {
   "cell_type": "code",
   "execution_count": 118,
   "id": "93978d3d",
   "metadata": {},
   "outputs": [
    {
     "data": {
      "text/plain": [
       "['banana', 'grape', 'orange']"
      ]
     },
     "execution_count": 118,
     "metadata": {},
     "output_type": "execute_result"
    }
   ],
   "source": [
    "fruits"
   ]
  },
  {
   "cell_type": "code",
   "execution_count": 119,
   "id": "409df12c",
   "metadata": {},
   "outputs": [
    {
     "name": "stdout",
     "output_type": "stream",
     "text": [
      "banana\n",
      "grape\n",
      "orange\n"
     ]
    }
   ],
   "source": [
    "for fruit in fruits:\n",
    "    print(fruit)"
   ]
  },
  {
   "cell_type": "code",
   "execution_count": 122,
   "id": "311bc8d2",
   "metadata": {},
   "outputs": [
    {
     "name": "stdout",
     "output_type": "stream",
     "text": [
      "1 + 1 + 1 = 3\n",
      "1 + 1 + 2 = 4\n",
      "--------------------\n",
      "1 + 2 + 1 = 4\n",
      "1 + 2 + 2 = 5\n",
      "--------------------\n",
      "********************\n",
      "2 + 1 + 1 = 4\n",
      "2 + 1 + 2 = 5\n",
      "--------------------\n",
      "2 + 2 + 1 = 5\n",
      "2 + 2 + 2 = 6\n",
      "--------------------\n",
      "********************\n"
     ]
    }
   ],
   "source": [
    "for i in range(1,3):\n",
    "    for j in range(1,3):\n",
    "        for k in range(1,3):\n",
    "            print('{} + {} + {} = {}'.format(i,j,k, i+j+k))\n",
    "        print('-'*20)\n",
    "    print('**'*10)"
   ]
  },
  {
   "cell_type": "code",
   "execution_count": 123,
   "id": "e20a8e43",
   "metadata": {},
   "outputs": [],
   "source": [
    "var = [1,2,3,4,5,6,7,8,9]"
   ]
  },
  {
   "cell_type": "code",
   "execution_count": 124,
   "id": "6c0de303",
   "metadata": {},
   "outputs": [
    {
     "name": "stdout",
     "output_type": "stream",
     "text": [
      "1\n",
      "2\n",
      "3\n",
      "4\n",
      "5\n"
     ]
    }
   ],
   "source": [
    "for i in var:\n",
    "    if i == 6:\n",
    "        break\n",
    "    print(i)"
   ]
  },
  {
   "cell_type": "code",
   "execution_count": 125,
   "id": "ed14aa23",
   "metadata": {},
   "outputs": [
    {
     "name": "stdout",
     "output_type": "stream",
     "text": [
      "1\n",
      "2\n",
      "3\n",
      "4\n",
      "5\n",
      "7\n",
      "8\n",
      "9\n"
     ]
    }
   ],
   "source": [
    "for i in var:\n",
    "    if i == 6:\n",
    "        continue\n",
    "    print(i)"
   ]
  },
  {
   "cell_type": "code",
   "execution_count": 126,
   "id": "d773b669",
   "metadata": {},
   "outputs": [
    {
     "data": {
      "text/plain": [
       "['banana', 'grape', 'orange']"
      ]
     },
     "execution_count": 126,
     "metadata": {},
     "output_type": "execute_result"
    }
   ],
   "source": [
    "fruits"
   ]
  },
  {
   "cell_type": "code",
   "execution_count": 127,
   "id": "89a7019f",
   "metadata": {},
   "outputs": [],
   "source": [
    "liked = ['banana','orange']"
   ]
  },
  {
   "cell_type": "code",
   "execution_count": 131,
   "id": "903991fe",
   "metadata": {},
   "outputs": [
    {
     "data": {
      "text/plain": [
       "['banana-liked', 'grape', 'orange-liked']"
      ]
     },
     "execution_count": 131,
     "metadata": {},
     "output_type": "execute_result"
    }
   ],
   "source": [
    "for i in range(len(fruits)):\n",
    "    if fruits[i] in liked:\n",
    "        fruits[i] += '-liked'\n",
    "    else:\n",
    "        pass\n",
    "fruits"
   ]
  },
  {
   "cell_type": "code",
   "execution_count": 1,
   "id": "ed37dbd9",
   "metadata": {},
   "outputs": [
    {
     "name": "stdout",
     "output_type": "stream",
     "text": [
      " *  *  *  *  * \n",
      " *  *  *  *  * \n",
      " *  *  *  *  * \n",
      " *  *  *  *  * \n",
      " *  *  *  *  * \n",
      "\n"
     ]
    }
   ],
   "source": [
    "z = ''\n",
    "for i in range(5):\n",
    "    for j in range(5):\n",
    "        z += ' * '\n",
    "    z += '\\n'\n",
    "print(z)"
   ]
  },
  {
   "cell_type": "code",
   "execution_count": 2,
   "id": "366beefd",
   "metadata": {},
   "outputs": [
    {
     "name": "stdout",
     "output_type": "stream",
     "text": [
      " *  *  *  *  * \n",
      " *  *  *  * \n",
      " *  *  * \n",
      " *  * \n",
      " * \n",
      "\n"
     ]
    }
   ],
   "source": [
    "z = ''\n",
    "for i in range(5):\n",
    "    for j in range(5-i):\n",
    "        z += ' * '\n",
    "    z += '\\n'\n",
    "print(z)\n",
    "    "
   ]
  },
  {
   "cell_type": "markdown",
   "id": "36eb0421",
   "metadata": {},
   "source": [
    "# Functions"
   ]
  },
  {
   "cell_type": "code",
   "execution_count": 3,
   "id": "4a03b71f",
   "metadata": {},
   "outputs": [],
   "source": [
    "def nama_fungsi():\n",
    "    print('Hello World')"
   ]
  },
  {
   "cell_type": "code",
   "execution_count": 4,
   "id": "3af87b56",
   "metadata": {},
   "outputs": [],
   "source": [
    "def cetak_nama(str):\n",
    "    print(str)"
   ]
  },
  {
   "cell_type": "code",
   "execution_count": 6,
   "id": "9e36ac57",
   "metadata": {},
   "outputs": [
    {
     "name": "stdout",
     "output_type": "stream",
     "text": [
      "dwi\n"
     ]
    }
   ],
   "source": [
    "cetak_nama('dwi')"
   ]
  },
  {
   "cell_type": "code",
   "execution_count": 7,
   "id": "e9161dbf",
   "metadata": {},
   "outputs": [],
   "source": [
    "def luas_persegi(s):\n",
    "    print(s*s)"
   ]
  },
  {
   "cell_type": "code",
   "execution_count": 8,
   "id": "0dc5be54",
   "metadata": {},
   "outputs": [
    {
     "name": "stdout",
     "output_type": "stream",
     "text": [
      "16\n"
     ]
    }
   ],
   "source": [
    "luas_persegi(4)"
   ]
  },
  {
   "cell_type": "markdown",
   "id": "5ef3f2f6",
   "metadata": {},
   "source": [
    "## Required Argument"
   ]
  },
  {
   "cell_type": "code",
   "execution_count": 9,
   "id": "cfc6aece",
   "metadata": {},
   "outputs": [],
   "source": [
    "def volume_tabung(radius,tinggi):\n",
    "    volume = 3.14 * radius**2 * tinggi\n",
    "    return volume"
   ]
  },
  {
   "cell_type": "code",
   "execution_count": 10,
   "id": "0f2de789",
   "metadata": {},
   "outputs": [
    {
     "data": {
      "text/plain": [
       "1230.88"
      ]
     },
     "execution_count": 10,
     "metadata": {},
     "output_type": "execute_result"
    }
   ],
   "source": [
    "volume_tabung(7,8)"
   ]
  },
  {
   "cell_type": "code",
   "execution_count": 11,
   "id": "21ee5691",
   "metadata": {},
   "outputs": [
    {
     "ename": "TypeError",
     "evalue": "volume_tabung() missing 2 required positional arguments: 'radius' and 'tinggi'",
     "output_type": "error",
     "traceback": [
      "\u001b[1;31m---------------------------------------------------------------------------\u001b[0m",
      "\u001b[1;31mTypeError\u001b[0m                                 Traceback (most recent call last)",
      "\u001b[1;32mC:\\Users\\DWISAP~1\\AppData\\Local\\Temp/ipykernel_8820/2068136268.py\u001b[0m in \u001b[0;36m<module>\u001b[1;34m\u001b[0m\n\u001b[1;32m----> 1\u001b[1;33m \u001b[0mvolume_tabung\u001b[0m\u001b[1;33m(\u001b[0m\u001b[1;33m)\u001b[0m\u001b[1;33m\u001b[0m\u001b[1;33m\u001b[0m\u001b[0m\n\u001b[0m",
      "\u001b[1;31mTypeError\u001b[0m: volume_tabung() missing 2 required positional arguments: 'radius' and 'tinggi'"
     ]
    }
   ],
   "source": [
    "volume_tabung()"
   ]
  },
  {
   "cell_type": "markdown",
   "id": "b7c0d37b",
   "metadata": {},
   "source": [
    "## Default Argument"
   ]
  },
  {
   "cell_type": "code",
   "execution_count": 14,
   "id": "c6b545be",
   "metadata": {},
   "outputs": [],
   "source": [
    "def volume_tabung(radius=1,tinggi=1):\n",
    "    volume = 3.14 * radius**2 * tinggi\n",
    "    return volume"
   ]
  },
  {
   "cell_type": "code",
   "execution_count": 15,
   "id": "5df8a8a2",
   "metadata": {},
   "outputs": [
    {
     "data": {
      "text/plain": [
       "3.14"
      ]
     },
     "execution_count": 15,
     "metadata": {},
     "output_type": "execute_result"
    }
   ],
   "source": [
    "volume_tabung()"
   ]
  },
  {
   "cell_type": "markdown",
   "id": "3d4e33f8",
   "metadata": {},
   "source": [
    "## Variable-Length Argument"
   ]
  },
  {
   "cell_type": "code",
   "execution_count": 16,
   "id": "c122e74a",
   "metadata": {},
   "outputs": [],
   "source": [
    "def fungsi(*number, **keyword):\n",
    "    print(number)\n",
    "    print(keyword)"
   ]
  },
  {
   "cell_type": "code",
   "execution_count": 18,
   "id": "e94cb55a",
   "metadata": {},
   "outputs": [
    {
     "name": "stdout",
     "output_type": "stream",
     "text": [
      "(1, 6, 7, 9)\n",
      "{'daging': 2, 'buah': 4}\n"
     ]
    }
   ],
   "source": [
    "fungsi(1,6,7,9,daging = 2, buah= 4)"
   ]
  },
  {
   "cell_type": "markdown",
   "id": "19d67bda",
   "metadata": {},
   "source": [
    "## Map"
   ]
  },
  {
   "cell_type": "code",
   "execution_count": 19,
   "id": "2cb498cf",
   "metadata": {},
   "outputs": [],
   "source": [
    "def addition(n):\n",
    "    return n + n"
   ]
  },
  {
   "cell_type": "code",
   "execution_count": 20,
   "id": "706f8356",
   "metadata": {},
   "outputs": [
    {
     "data": {
      "text/plain": [
       "12"
      ]
     },
     "execution_count": 20,
     "metadata": {},
     "output_type": "execute_result"
    }
   ],
   "source": [
    "addition(6)"
   ]
  },
  {
   "cell_type": "code",
   "execution_count": 21,
   "id": "bc271d7b",
   "metadata": {},
   "outputs": [],
   "source": [
    "number = [3,7,9,4]"
   ]
  },
  {
   "cell_type": "code",
   "execution_count": 23,
   "id": "dac80fd5",
   "metadata": {},
   "outputs": [],
   "source": [
    "result = map(addition, number)"
   ]
  },
  {
   "cell_type": "code",
   "execution_count": 24,
   "id": "068214dd",
   "metadata": {},
   "outputs": [
    {
     "name": "stdout",
     "output_type": "stream",
     "text": [
      "<map object at 0x00000261AC583520>\n"
     ]
    }
   ],
   "source": [
    "print(result)"
   ]
  },
  {
   "cell_type": "code",
   "execution_count": 26,
   "id": "2788e06f",
   "metadata": {},
   "outputs": [
    {
     "data": {
      "text/plain": [
       "[6, 14, 18, 8]"
      ]
     },
     "execution_count": 26,
     "metadata": {},
     "output_type": "execute_result"
    }
   ],
   "source": [
    "list(result)"
   ]
  },
  {
   "cell_type": "markdown",
   "id": "2ee93ded",
   "metadata": {},
   "source": [
    "## Filter"
   ]
  },
  {
   "cell_type": "code",
   "execution_count": 27,
   "id": "7b802ffe",
   "metadata": {},
   "outputs": [],
   "source": [
    "def check_num(num):\n",
    "    return num%2 == 0"
   ]
  },
  {
   "cell_type": "code",
   "execution_count": 28,
   "id": "a918907c",
   "metadata": {},
   "outputs": [
    {
     "data": {
      "text/plain": [
       "True"
      ]
     },
     "execution_count": 28,
     "metadata": {},
     "output_type": "execute_result"
    }
   ],
   "source": [
    "check_num(10)"
   ]
  },
  {
   "cell_type": "code",
   "execution_count": 29,
   "id": "d9f9df15",
   "metadata": {},
   "outputs": [],
   "source": [
    "number = [3,6,9]"
   ]
  },
  {
   "cell_type": "code",
   "execution_count": 31,
   "id": "cf98027d",
   "metadata": {},
   "outputs": [],
   "source": [
    "result = filter(check_num,number)"
   ]
  },
  {
   "cell_type": "raw",
   "id": "8f0873f9",
   "metadata": {},
   "source": [
    "result"
   ]
  },
  {
   "cell_type": "code",
   "execution_count": 32,
   "id": "4ea396fa",
   "metadata": {},
   "outputs": [
    {
     "data": {
      "text/plain": [
       "[6]"
      ]
     },
     "execution_count": 32,
     "metadata": {},
     "output_type": "execute_result"
    }
   ],
   "source": [
    "list(result)"
   ]
  },
  {
   "cell_type": "markdown",
   "id": "b92cbccc",
   "metadata": {},
   "source": [
    "## Lambda"
   ]
  },
  {
   "cell_type": "code",
   "execution_count": 33,
   "id": "a3de51fa",
   "metadata": {},
   "outputs": [
    {
     "data": {
      "text/plain": [
       "6"
      ]
     },
     "execution_count": 33,
     "metadata": {},
     "output_type": "execute_result"
    }
   ],
   "source": [
    "def tambah(x):\n",
    "    return x\n",
    "tambah(6)"
   ]
  },
  {
   "cell_type": "code",
   "execution_count": 34,
   "id": "fdefbf10",
   "metadata": {},
   "outputs": [
    {
     "name": "stdout",
     "output_type": "stream",
     "text": [
      "8\n"
     ]
    }
   ],
   "source": [
    "var = lambda x: print(x)\n",
    "var(8)"
   ]
  },
  {
   "cell_type": "code",
   "execution_count": null,
   "id": "e55fe439",
   "metadata": {},
   "outputs": [],
   "source": []
  }
 ],
 "metadata": {
  "kernelspec": {
   "display_name": "Python 3 (ipykernel)",
   "language": "python",
   "name": "python3"
  },
  "language_info": {
   "codemirror_mode": {
    "name": "ipython",
    "version": 3
   },
   "file_extension": ".py",
   "mimetype": "text/x-python",
   "name": "python",
   "nbconvert_exporter": "python",
   "pygments_lexer": "ipython3",
   "version": "3.9.7"
  }
 },
 "nbformat": 4,
 "nbformat_minor": 5
}
